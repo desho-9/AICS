{
  "nbformat": 4,
  "nbformat_minor": 0,
  "metadata": {
    "colab": {
      "provenance": [],
      "authorship_tag": "ABX9TyMkKkoGrffSgwzYJemP1IG3",
      "include_colab_link": true
    },
    "kernelspec": {
      "name": "python3",
      "display_name": "Python 3"
    },
    "language_info": {
      "name": "python"
    }
  },
  "cells": [
    {
      "cell_type": "markdown",
      "metadata": {
        "id": "view-in-github",
        "colab_type": "text"
      },
      "source": [
        "<a href=\"https://colab.research.google.com/github/desho-9/AICS/blob/main/1.ipynb\" target=\"_parent\"><img src=\"https://colab.research.google.com/assets/colab-badge.svg\" alt=\"Open In Colab\"/></a>"
      ]
    },
    {
      "cell_type": "code",
      "execution_count": null,
      "metadata": {
        "colab": {
          "base_uri": "https://localhost:8080/"
        },
        "id": "WY0H6ABWBWJg",
        "outputId": "cee3fca8-058c-4f4a-81d3-caa5e9e05e1c"
      },
      "outputs": [
        {
          "output_type": "stream",
          "name": "stdout",
          "text": [
            "[1, 2, 3]\n",
            "(1, 2, 3)\n",
            "{'one': 1, 'two': 2, 'three': 3}\n"
          ]
        }
      ],
      "source": [
        "# List\n",
        "my_list = [1, 2, 3]\n",
        "my_list2 = [\"a\", \"b\", \"c\"]\n",
        "my_list3 = [\"a\", 1, \"Python\", 5]\n",
        "print(my_list)\n",
        "\n",
        "# Tuple\n",
        "my_tuple = (1, 2, 3, 4, 5)\n",
        "print(my_tuple[0:3])\n",
        "\n",
        "# Dictionary\n",
        "y_dict = {}\n",
        "another_dict = dict()\n",
        "my_other_dict = {\"one\":1, \"two\":2, \"three\":3}\n",
        "print(my_other_dict)"
      ]
    },
    {
      "cell_type": "code",
      "source": [],
      "metadata": {
        "id": "KJk569VVCXfW"
      },
      "execution_count": null,
      "outputs": []
    }
  ]
}